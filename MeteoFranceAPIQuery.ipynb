{
 "cells": [
  {
   "cell_type": "markdown",
   "metadata": {},
   "source": [
    "## Querying data from MeteoFrance API"
   ]
  },
  {
   "cell_type": "code",
   "execution_count": 19,
   "metadata": {},
   "outputs": [],
   "source": [
    "import requests\n",
    "from io import StringIO\n",
    "import pandas as pd\n",
    "import time, matplotlib\n",
    "from tqdm import tqdm\n",
    "import numpy as np"
   ]
  },
  {
   "cell_type": "code",
   "execution_count": 30,
   "metadata": {},
   "outputs": [],
   "source": [
    "#API key (to be obtained from https://portail-api.meteofrance.fr/web/fr/api/DonneesPubliquesClimatologie after sign in and done \"Configurer l'API\")\n",
    "#WARNING the Swagger seems to be broken\n",
    "apiKey = 'eyJ4NXQiOiJZV0kxTTJZNE1qWTNOemsyTkRZeU5XTTRPV014TXpjek1UVmhNbU14T1RSa09ETXlOVEE0Tnc9PSIsImtpZCI6ImdhdGV3YXlfY2VydGlmaWNhdGVfYWxpYXMiLCJ0eXAiOiJKV1QiLCJhbGciOiJSUzI1NiJ9.eyJzdWIiOiJGbG9yaWFuQmxhbmNAY2FyYm9uLnN1cGVyIiwiYXBwbGljYXRpb24iOnsib3duZXIiOiJGbG9yaWFuQmxhbmMiLCJ0aWVyUXVvdGFUeXBlIjpudWxsLCJ0aWVyIjoiVW5saW1pdGVkIiwibmFtZSI6IkRlZmF1bHRBcHBsaWNhdGlvbiIsImlkIjo2ODY3LCJ1dWlkIjoiYjk0ZWRjM2EtZTcyZC00MWFkLWIwMTEtNmU4MDgyNjY5MjAzIn0sImlzcyI6Imh0dHBzOlwvXC9wb3J0YWlsLWFwaS5tZXRlb2ZyYW5jZS5mcjo0NDNcL29hdXRoMlwvdG9rZW4iLCJ0aWVySW5mbyI6eyI1MFBlck1pbiI6eyJ0aWVyUXVvdGFUeXBlIjoicmVxdWVzdENvdW50IiwiZ3JhcGhRTE1heENvbXBsZXhpdHkiOjAsImdyYXBoUUxNYXhEZXB0aCI6MCwic3RvcE9uUXVvdGFSZWFjaCI6dHJ1ZSwic3Bpa2VBcnJlc3RMaW1pdCI6MCwic3Bpa2VBcnJlc3RVbml0Ijoic2VjIn19LCJrZXl0eXBlIjoiUFJPRFVDVElPTiIsInN1YnNjcmliZWRBUElzIjpbeyJzdWJzY3JpYmVyVGVuYW50RG9tYWluIjoiY2FyYm9uLnN1cGVyIiwibmFtZSI6IkRvbm5lZXNQdWJsaXF1ZXNDbGltYXRvbG9naWUiLCJjb250ZXh0IjoiXC9wdWJsaWNcL0RQQ2xpbVwvdjEiLCJwdWJsaXNoZXIiOiJhZG1pbl9tZiIsInZlcnNpb24iOiJ2MSIsInN1YnNjcmlwdGlvblRpZXIiOiI1MFBlck1pbiJ9XSwiZXhwIjoxNzA0NjUzODAxLCJ0b2tlbl90eXBlIjoiYXBpS2V5IiwiaWF0IjoxNzA0NjUwMjAxLCJqdGkiOiIxYTExYmNkOS0wNGQ0LTQ5M2YtYjlmNC0zMTdiNTg0ZTE5MTQifQ==.jyMcPomwd0QAj3eXfcwf4fWfJxOpwAd0kFUArGDNlDO1_gQkRJTcJS2-seyYNswwu2s9k9zagH1cEr76tbJelPeGCmDSeKjEwt7ZFSUqZHLJaoQ40HzGu_dSG4JhHs_SJsT-JebRp30euHkJeCtgTpHx4SOZ-d6eCQoCffeiijyiusPfDf-Si25BzAsAeFmzlhrqSWz2k2V7BoHfl7H36AGPNVMhvlua82nxWz4K9vYl44cBMZh-S7eGn-ABmHvBUse-CKitBmx_vxLxZtuT7QjQORchru66Izn1GGh-BH7xKzxxll9qQjv3liyMBGwG-MfYKDDPrpKO29-UDZZz7w=='"
   ]
  },
  {
   "cell_type": "code",
   "execution_count": 54,
   "metadata": {},
   "outputs": [],
   "source": [
    "def collectData(year, locationCode = '31478001'):\n",
    "    ### collect data for one year at one station\n",
    "    print(\"Processing year %i\"%year)\n",
    "\n",
    "    #define the location and start / finish time (WARNING : max 1 yr period)\n",
    "    params = {\n",
    "        'id-station': locationCode, #3141001 is Revel 31478001 is St Felix\n",
    "        'date-deb-periode': '%i-01-01T00:00:00Z'%year,\n",
    "        'date-fin-periode': '%i-12-31T23:59:00Z'%year,\n",
    "    }\n",
    "\n",
    "    headers = {\n",
    "        'accept': '*/*',\n",
    "        'apikey': apiKey\n",
    "    }\n",
    "\n",
    "    #first requests prepares the payload returns the ID for downloading it as a file (asynchronous API)\n",
    "    response = requests.get('https://public-api.meteofrance.fr/public/DPClim/v1/commande-station/horaire', params=params, headers=headers)\n",
    "    payloadID = response.json()[\"elaboreProduitAvecDemandeResponse\"][\"return\"]\n",
    "    print(\"payload ID : \", payloadID)\n",
    "\n",
    "    #second request to actually collect the data\n",
    "    params = {\n",
    "        'id-cmde':  payloadID\n",
    "    }\n",
    "    returnCode = 204\n",
    "    while returnCode == 204:\n",
    "        response = requests.get('https://public-api.meteofrance.fr/public/DPClim/v1/commande/fichier', params=params, headers=headers)\n",
    "        returnCode = response.status_code\n",
    "        time.sleep(2) #multiple pinging of the API until data is ready\n",
    "\n",
    "    payload = StringIO(response.text)\n",
    "    responsedf = pd.read_csv(payload, sep=\";\")\n",
    "    # #responsedf.to_csv(\"data_collected.csv\")\n",
    "    return responsedf"
   ]
  },
  {
   "cell_type": "code",
   "execution_count": 58,
   "metadata": {},
   "outputs": [
    {
     "name": "stdout",
     "output_type": "stream",
     "text": [
      "Processing year 2007\n",
      "payload ID :  758573489918\n",
      "Processing year 2008\n",
      "payload ID :  758573507304\n",
      "Processing year 2009\n",
      "payload ID :  758573525847\n",
      "Processing year 2010\n",
      "payload ID :  758573543301\n",
      "Processing year 2011\n",
      "payload ID :  758573557581\n",
      "Processing year 2012\n",
      "payload ID :  758573571750\n",
      "Processing year 2013\n",
      "payload ID :  758573586861\n",
      "Processing year 2014\n",
      "payload ID :  758573602740\n",
      "Processing year 2015\n",
      "payload ID :  758573617883\n",
      "Processing year 2016\n",
      "payload ID :  758573637051\n",
      "Processing year 2017\n",
      "payload ID :  758573657639\n",
      "Processing year 2018\n",
      "payload ID :  758573675145\n",
      "Processing year 2019\n",
      "payload ID :  758573692846\n",
      "Processing year 2020\n",
      "payload ID :  758573711650\n",
      "Processing year 2021\n",
      "payload ID :  758573728973\n",
      "Processing year 2022\n",
      "payload ID :  758573747170\n",
      "Processing year 2023\n",
      "payload ID :  758573761458\n"
     ]
    }
   ],
   "source": [
    "#collecting data over multiple years\n",
    "allDatadf = pd.DataFrame()\n",
    "for year in range(2007,2024):\n",
    "    yeardf = collectData(year)\n",
    "    if allDatadf.empty:\n",
    "        allDatadf = yeardf\n",
    "    else:\n",
    "        frames = [allDatadf, yeardf]\n",
    "        allDatadf = pd.concat(frames)\n",
    "allDatadf.to_csv(\"allData.csv\")"
   ]
  }
 ],
 "metadata": {
  "kernelspec": {
   "display_name": "Python 3",
   "language": "python",
   "name": "python3"
  },
  "language_info": {
   "codemirror_mode": {
    "name": "ipython",
    "version": 3
   },
   "file_extension": ".py",
   "mimetype": "text/x-python",
   "name": "python",
   "nbconvert_exporter": "python",
   "pygments_lexer": "ipython3",
   "version": "3.11.5"
  }
 },
 "nbformat": 4,
 "nbformat_minor": 2
}
